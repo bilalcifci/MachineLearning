{
 "cells": [
  {
   "cell_type": "markdown",
   "id": "783c2cba-2ffe-4b53-a9a0-314fc0feb22b",
   "metadata": {},
   "source": [
    "## Regresyon vs Sınıflandırma"
   ]
  },
  {
   "cell_type": "markdown",
   "id": "c5e84a4b-a0d5-47cb-834f-e3d3c0f076da",
   "metadata": {},
   "source": [
    "Değişkenler, sayısal (nicelik) olabilirler veya kategorik (nitelik) olabilirler."
   ]
  },
  {
   "cell_type": "markdown",
   "id": "ee529a6e-670f-4141-a6fa-9349377ccb39",
   "metadata": {},
   "source": [
    "Sayısal değişkenler, sayı ile ölçülebilen değerler alırlar:\n",
    "\n",
    "Örneğin: Kişini yaşı, aldığı maaş vs.\n"
   ]
  },
  {
   "cell_type": "markdown",
   "id": "a11a9dc0-cbcd-45fe-8818-f2b30264cfc0",
   "metadata": {},
   "source": [
    "Kategorik Değişkenler ise,\n",
    "\n",
    "Sınıf dediğimiz değerler kümesinden bir değer alırlar.\n",
    "\n",
    "Örneğin: Kişinin cinsiyeti iki sınıftan oluşur: K/E\n",
    "\n",
    "İşte bir kategorik değişken bu iki kategoriden birini alır -> K veya E"
   ]
  },
  {
   "cell_type": "markdown",
   "id": "a26537bf-6fc0-4284-bf33-d373a5dc3e78",
   "metadata": {},
   "source": [
    "**Regresyon (Regression):**\n",
    "\n",
    "Sayısal değişkenlerin tahmini için kurduğumuz modellere denir.\n",
    "\n",
    "Regresyon günün sonunda, sayı ile ölçülebilen bir değer bulmaya çalışır.\n",
    "\n",
    "Örneğin: Yarınki hisse senedi fiyatı kaç tl olacak gibi."
   ]
  },
  {
   "cell_type": "markdown",
   "id": "2a0c0c44-f69d-47b1-9a69-73102d476626",
   "metadata": {},
   "source": [
    "**Sınıflandırma (Classification):**\n",
    "\n",
    "Kategorik değişkenin hangi kategoriye yani sınıfa girdiğini bulma çabasına da Sınıflandırma denir.\n",
    "\n",
    "Sonuç değişkeni, elimizdeki sınıflardan hangisine aittir?\n",
    "\n",
    "Örnek: Bir resim, kedi mi, köpek mi yoksa tavşan mı? bunu tahminleyeme çalışma bir sınıflandırmadır."
   ]
  },
  {
   "cell_type": "markdown",
   "id": "79d1312d-494e-462c-ba44-6d705da51ba1",
   "metadata": {},
   "source": [
    "Çizimle gösterelim:"
   ]
  },
  {
   "cell_type": "markdown",
   "id": "efee82ef-ce4c-4f40-b827-8e804146473e",
   "metadata": {},
   "source": [
    "<img src='images/regression-vs-classification.png' />"
   ]
  },
  {
   "cell_type": "markdown",
   "id": "58f7669c-8fba-4c12-a558-f1432ad48aa0",
   "metadata": {},
   "source": [
    "Aynı data seti üzerinden iki farklı türü görelim:"
   ]
  },
  {
   "cell_type": "markdown",
   "id": "81569a05-98d9-419e-b080-8014b72bb66c",
   "metadata": {},
   "source": [
    "<img src='images/reg_vs_class.png' />"
   ]
  }
 ],
 "metadata": {
  "kernelspec": {
   "display_name": "Python [conda env:base] *",
   "language": "python",
   "name": "conda-base-py"
  },
  "language_info": {
   "codemirror_mode": {
    "name": "ipython",
    "version": 3
   },
   "file_extension": ".py",
   "mimetype": "text/x-python",
   "name": "python",
   "nbconvert_exporter": "python",
   "pygments_lexer": "ipython3",
   "version": "3.12.7"
  }
 },
 "nbformat": 4,
 "nbformat_minor": 5
}
