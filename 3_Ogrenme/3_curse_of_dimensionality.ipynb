{
 "cells": [
  {
   "cell_type": "markdown",
   "id": "b005c5d5-6cfe-41db-8e5b-6e0c277f9372",
   "metadata": {},
   "source": [
    "## Curse of Dimensionality (Boyutun Laneti)"
   ]
  },
  {
   "cell_type": "markdown",
   "id": "2d73b968-495e-425c-afec-aa4f066a8bab",
   "metadata": {},
   "source": [
    "Önce bir örnek ile başlayalım:"
   ]
  },
  {
   "cell_type": "markdown",
   "id": "2ce52e79-a93b-4df5-9ba9-80e6abd63d80",
   "metadata": {},
   "source": [
    "Şimdi f'yi nasıl tahmin edebiliriz bakalım:\n",
    "\n",
    "\n",
    "**Soru:** \n",
    "\n",
    "Diyelim ki x = 30 noktasında elimizde bir veri yok.\n",
    "\n",
    "O zaman ne yapacağız?"
   ]
  },
  {
   "cell_type": "markdown",
   "id": "2746c0e7-0206-45ee-976f-e71f97d0a36a",
   "metadata": {},
   "source": [
    "**Cevap:**\n",
    "\n",
    "En yakın komuşalarına bakarız.\n",
    "\n",
    "Nearest Negihbors"
   ]
  },
  {
   "cell_type": "markdown",
   "id": "0b33ae8e-01f2-42ac-afa0-aca8d78666e3",
   "metadata": {},
   "source": [
    "En yakın tek bir noktaya bakmak sağlıklı olmaz.\n",
    "\n",
    "Neden, çünkü veri çok değişir o durumda, aşırı bir varyans olur.\n",
    "\n",
    "Tek nokta yerine, tek komşu yerine, birkaç noktaya bakmalıyız ki örnkelem aldığımız veri, gerçek verimizi daha iyi temsil etsin.\n",
    "\n",
    "Diyelim ki %10'luk bir nokta ailesi alıcaz olmayan nokta için:\n",
    "\n",
    "O zaman olmayan nokta etrafında verinin %10'nuna tekabül eden bir aralığı alıcaz."
   ]
  },
  {
   "cell_type": "markdown",
   "id": "f338d367-ab9e-4049-b9a3-d5b02175ada9",
   "metadata": {},
   "source": [
    "İşte buna Curse of Dimensionality yani Boyutun Laneti deniyor."
   ]
  },
  {
   "cell_type": "markdown",
   "id": "994ee949-ecda-44ed-8a48-0e4148a96f63",
   "metadata": {},
   "source": [
    "<img src='images/cod_2.png' />"
   ]
  },
  {
   "cell_type": "markdown",
   "id": "9d109b89-8fb4-4572-ad82-9a4308671d42",
   "metadata": {},
   "source": [
    "Boyut sayısı arttıkça, komşuluk denen kavram ortadan kalkar.\n",
    "\n",
    "Her nokta artık birbirinden çok uzaktır.\n",
    "\n",
    "Aynı büyük şehirlerde komşluğun artık kalmaması gibi :)"
   ]
  },
  {
   "cell_type": "markdown",
   "id": "008205fd-1ec7-4279-8f49-dd7c562f42b3",
   "metadata": {},
   "source": [
    "<img src='images/cod_3.gif' />"
   ]
  }
 ],
 "metadata": {
  "kernelspec": {
   "display_name": "Python [conda env:base] *",
   "language": "python",
   "name": "conda-base-py"
  },
  "language_info": {
   "codemirror_mode": {
    "name": "ipython",
    "version": 3
   },
   "file_extension": ".py",
   "mimetype": "text/x-python",
   "name": "python",
   "nbconvert_exporter": "python",
   "pygments_lexer": "ipython3",
   "version": "3.12.7"
  }
 },
 "nbformat": 4,
 "nbformat_minor": 5
}
