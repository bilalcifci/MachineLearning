{
 "cells": [
  {
   "cell_type": "markdown",
   "id": "9a922c75-1cb0-46b6-8a60-f7dd3f11124f",
   "metadata": {},
   "source": [
    "## f'yi Neden Tahmin Ederiz?"
   ]
  },
  {
   "cell_type": "markdown",
   "id": "8e73e28d-1e8f-4113-b27a-4de1ddab9ad2",
   "metadata": {},
   "source": [
    "Y ile X arasında şu şekilde bir ilişki olduğunu kabul etmiştik:\n",
    "\n",
    "$$Y = f(X) + \\epsilon$$"
   ]
  },
  {
   "cell_type": "markdown",
   "id": "f2fd938f-7e0b-42a7-a0f2-bee9b29ddb10",
   "metadata": {},
   "source": [
    "İşte buradaki ilişki yani, **f**'yi bulmak için iki ana nedenimiz var:\n",
    "* Tahmin Yapmak\n",
    "* Çıkarım Yapmak"
   ]
  },
  {
   "cell_type": "markdown",
   "id": "2eb42448-d45c-4f41-85e6-a8b6e263a45e",
   "metadata": {},
   "source": [
    "### Tahmin"
   ]
  },
  {
   "cell_type": "markdown",
   "id": "becf4d6d-7f5b-4346-988f-5498810b4919",
   "metadata": {},
   "source": [
    "Çoğu zaman elimizde girdi değişkeni yani X olur ama y olmaz.\n",
    "\n",
    "Dolayısı ile y'yi tahmin etmemiz lazımdır.\n",
    "\n",
    "Tahmin ederken kaçınılmaz olarak bir hata payı olacaktır. Buna `kaçınılmaz hata` deriz."
   ]
  },
  {
   "cell_type": "markdown",
   "id": "dba92bff-d922-49b4-a42f-9e5fb37a9985",
   "metadata": {},
   "source": [
    "$$Toplam Hata = Kaçınılabilir Hata + Kaçınılmaz Hata$$"
   ]
  },
  {
   "cell_type": "markdown",
   "id": "8db7d81c-751d-4319-b619-0877ba6e00d0",
   "metadata": {},
   "source": [
    "İşte iyi bir tahmin Kaçınılabilir Hatayı minimize eden tahmindir."
   ]
  },
  {
   "cell_type": "markdown",
   "id": "3ba60bec-0be7-4bd9-aa9c-816016261d1f",
   "metadata": {},
   "source": [
    "Tahmin edilen **f**:\n",
    "**$$\\hat{f}$$**"
   ]
  },
  {
   "cell_type": "markdown",
   "id": "6474f204-e7bb-4ee4-804a-15fb59e54c27",
   "metadata": {},
   "source": [
    "### Çıkarım"
   ]
  },
  {
   "cell_type": "markdown",
   "id": "bfe99843-65ed-494e-8186-c2ecd9d52198",
   "metadata": {},
   "source": [
    "Bazı durumlarda y'nin değerini tahmin etmeye çalışmak yerine, olası durumlar için çıkarım yapmamız gerekir."
   ]
  },
  {
   "cell_type": "markdown",
   "id": "2cc5d498-a720-45aa-aea2-3f6cb974c744",
   "metadata": {},
   "source": [
    "Örneğin, Hisse Senedi veri kümesinde gördüğümüz üzere, bir hissenin yarınki değerinin ne olacağını tahmin etmek yerine, acaba artacak mı yoksa azalacak mı, bu çıkarımı yapmaya çalıştık."
   ]
  },
  {
   "cell_type": "markdown",
   "id": "2ad2d4d1-7043-488f-bc5b-c9e8ec56d1d5",
   "metadata": {},
   "source": [
    "Çıkarım yapmak, tahmin yapmak kadar önemlidir ve karar verecinin iyi kararlar vermesini sağlar."
   ]
  },
  {
   "cell_type": "markdown",
   "id": "aa4629cb-a34f-49a0-8f6e-e24ae6ebf16a",
   "metadata": {},
   "source": [
    "Başka bir örnek olarak, TV-Radio-Newspaper reklamlarının hangisinin Satış miktarını daha çok artırdığını öğrenmek istesek bu da bir çıkarım olurdu.\n",
    "\n",
    "Burada Satış'ın tam olarak ne olacağını tahmin etmeye çalışmak yerine, 3 girdinin hangisinin daha önemli olduğunu saptamaya çalışırsak bu bir Çıkarım olur."
   ]
  }
 ],
 "metadata": {
  "kernelspec": {
   "display_name": "Python [conda env:base] *",
   "language": "python",
   "name": "conda-base-py"
  },
  "language_info": {
   "codemirror_mode": {
    "name": "ipython",
    "version": 3
   },
   "file_extension": ".py",
   "mimetype": "text/x-python",
   "name": "python",
   "nbconvert_exporter": "python",
   "pygments_lexer": "ipython3",
   "version": "3.12.7"
  }
 },
 "nbformat": 4,
 "nbformat_minor": 5
}
