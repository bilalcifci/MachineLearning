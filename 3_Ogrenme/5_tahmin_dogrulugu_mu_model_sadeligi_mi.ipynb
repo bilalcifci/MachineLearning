{
 "cells": [
  {
   "cell_type": "markdown",
   "id": "5d923f68-b80f-43de-98ef-97a71e71f208",
   "metadata": {},
   "source": [
    "## Tahmin Doğruluğu mu Model Sadeliği mi?"
   ]
  },
  {
   "cell_type": "markdown",
   "id": "e407d025-82d7-489d-9998-fdc80150c3f2",
   "metadata": {},
   "source": [
    "Kursumuz boyunca, bir çok Machine Learning Algoritması göreceğiz.\n",
    "\n",
    "Bazıları daha esnek, bazıları ise daha sınırlayıcı yani kısıtlayıcı olacak."
   ]
  },
  {
   "cell_type": "markdown",
   "id": "efcc9e6b-ea7e-4cc8-aa28-47bf55693df0",
   "metadata": {},
   "source": [
    "Örneğin, Lineer modeller görece daha az esnektir. Çünkü bir şekilde lineer bir ilişki yaratmaya çalıştıkları için veriyi kısıtlarlar."
   ]
  },
  {
   "cell_type": "markdown",
   "id": "b1664fc3-1702-4454-8a98-1ff03477d7c1",
   "metadata": {},
   "source": [
    "Ama ileride göreceğimiz Support Vector Machines (SVM) gibi algoritmalar ise inanılmaz esnektirler."
   ]
  },
  {
   "cell_type": "markdown",
   "id": "5e663332-336f-4444-b8f4-45c00c2614bd",
   "metadata": {},
   "source": [
    "**Soru:**\n",
    "\n",
    "O zaman ortaya şöyle mantıklı bir soru çıkıyor:\n",
    "\n",
    "Neden esnek bir model varken kısıtlayıcı olanı seçelim ki?"
   ]
  },
  {
   "cell_type": "markdown",
   "id": "906f2aa7-d0ac-4bfc-8752-db81fd12e3d9",
   "metadata": {},
   "source": [
    "**Genel Kural:** \n",
    "\n",
    "**Kısıtlayıcı** olan modeller daha sade yani daha **anlaşılırdırlar.**\n",
    "\n",
    "**Esnek** modeller daha kompleks dolayısı ile daha **az anlaşılır** olurlar.\n"
   ]
  },
  {
   "cell_type": "markdown",
   "id": "af724903-29cc-42e1-b2ec-6346e975696e",
   "metadata": {},
   "source": [
    "**Cevap:**\n",
    "\n",
    "Daha kısıtlayıcı bir modeli tercih etmenin çeşitli sebepleri olabilir:\n",
    "\n",
    "* Eğer ana amacımız tahmin değil de çıkarım yapmaksa, o zaman daha anlaşılır bir model terchih ederiz\n",
    "    * Örneğin Maaş Data Setinde gördüğümüz gibi, amacımız şöyle bir soruya cevap vermekse;\n",
    "      Acaba eğitim düzeyinin kişinin maaşı üzerinde bir etkisi var mı?\n",
    "      Bu soru için lineer modeller bize yeterince çıkarım sağlarlar.\n",
    "      \n",
    "* Kompleks modeller hem maliyetli hem de zor okunurlar\n",
    "\n",
    "* Kompleks modeller Overfit olmaya daha yatkındırlar.\n",
    "\n",
    "* Sade modeller de Underfit olmaya yatkındırlar."
   ]
  },
  {
   "cell_type": "markdown",
   "id": "2b7b74e6-ee61-4d1c-8bda-3150b405a30a",
   "metadata": {},
   "source": [
    "<img src='images/interpretability.png' />"
   ]
  }
 ],
 "metadata": {
  "kernelspec": {
   "display_name": "Python 3 (ipykernel)",
   "language": "python",
   "name": "python3"
  },
  "language_info": {
   "codemirror_mode": {
    "name": "ipython",
    "version": 3
   },
   "file_extension": ".py",
   "mimetype": "text/x-python",
   "name": "python",
   "nbconvert_exporter": "python",
   "pygments_lexer": "ipython3",
   "version": "3.12.9"
  }
 },
 "nbformat": 4,
 "nbformat_minor": 5
}
