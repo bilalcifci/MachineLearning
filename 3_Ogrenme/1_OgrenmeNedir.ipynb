{
 "cells": [
  {
   "cell_type": "markdown",
   "id": "935eaa2b-43cd-4c52-8814-189befa28c9b",
   "metadata": {},
   "source": [
    "**Örnek 1:**\n",
    "\n",
    "Elimizde hayali bir şirketin Reklam verileri var. (Advertising.csv)\n",
    "\n",
    "200 farklı pazarda yapılan TV, Radio ve Newspaper reklam harcamaları sonucu gerçekleşen Satışı (Sales) görüyoruz.\n",
    "\n",
    "Amacımız, reklam harcamaları ile Satış miktarı arasında, varsa, bir ilişki bulmak.\n",
    "\n",
    "Böylece gelecekte ne kadar reklam bütçesi ile tahmini olarak ne kadar satış yapabileceğimizi göreceğiz."
   ]
  },
  {
   "cell_type": "markdown",
   "id": "2a1b1b36-a7e9-4a2b-82a5-889d79893822",
   "metadata": {},
   "source": [
    "**Girdi Değişenleri:** Harcama Tutarları - USD (TV, Radio, Newspaper) -> Input, Features\n",
    "\n",
    "**Çıktı Değişkeni:** Satış miktarı - Adet (Sales) -> Output, Label"
   ]
  },
  {
   "cell_type": "markdown",
   "id": "ada47027-7484-4652-9610-4d0c6379d783",
   "metadata": {},
   "source": [
    "$X_1: TV$\n",
    "\n",
    "$X_2: Radio$\n",
    "\n",
    "$X_3: Newspaper$\n",
    "\n",
    "$y: Sales$"
   ]
  },
  {
   "cell_type": "code",
   "execution_count": 1,
   "id": "7754454a-0d92-422d-83bb-15dee2052f82",
   "metadata": {},
   "outputs": [],
   "source": [
    "# kutuphane import\n",
    "\n",
    "import pandas as pd\n",
    "import matplotlib.pyplot as plt\n",
    "from sklearn.linear_model import LinearRegression"
   ]
  },
  {
   "cell_type": "code",
   "execution_count": 2,
   "id": "3e6590f1-352d-4c38-beec-bc085d65b8aa",
   "metadata": {},
   "outputs": [],
   "source": [
    "# datayi oku\n",
    "\n",
    "df = pd.read_csv('data/Advertising.csv')"
   ]
  },
  {
   "cell_type": "code",
   "execution_count": 3,
   "id": "194aafd6-642c-414c-9519-192fbb120cdf",
   "metadata": {},
   "outputs": [
    {
     "data": {
      "text/html": [
       "<div>\n",
       "<style scoped>\n",
       "    .dataframe tbody tr th:only-of-type {\n",
       "        vertical-align: middle;\n",
       "    }\n",
       "\n",
       "    .dataframe tbody tr th {\n",
       "        vertical-align: top;\n",
       "    }\n",
       "\n",
       "    .dataframe thead th {\n",
       "        text-align: right;\n",
       "    }\n",
       "</style>\n",
       "<table border=\"1\" class=\"dataframe\">\n",
       "  <thead>\n",
       "    <tr style=\"text-align: right;\">\n",
       "      <th></th>\n",
       "      <th>Unnamed: 0</th>\n",
       "      <th>TV</th>\n",
       "      <th>radio</th>\n",
       "      <th>newspaper</th>\n",
       "      <th>sales</th>\n",
       "    </tr>\n",
       "  </thead>\n",
       "  <tbody>\n",
       "    <tr>\n",
       "      <th>count</th>\n",
       "      <td>200.000000</td>\n",
       "      <td>200.000000</td>\n",
       "      <td>200.000000</td>\n",
       "      <td>200.000000</td>\n",
       "      <td>200.000000</td>\n",
       "    </tr>\n",
       "    <tr>\n",
       "      <th>mean</th>\n",
       "      <td>100.500000</td>\n",
       "      <td>147.042500</td>\n",
       "      <td>23.264000</td>\n",
       "      <td>30.554000</td>\n",
       "      <td>14.022500</td>\n",
       "    </tr>\n",
       "    <tr>\n",
       "      <th>std</th>\n",
       "      <td>57.879185</td>\n",
       "      <td>85.854236</td>\n",
       "      <td>14.846809</td>\n",
       "      <td>21.778621</td>\n",
       "      <td>5.217457</td>\n",
       "    </tr>\n",
       "    <tr>\n",
       "      <th>min</th>\n",
       "      <td>1.000000</td>\n",
       "      <td>0.700000</td>\n",
       "      <td>0.000000</td>\n",
       "      <td>0.300000</td>\n",
       "      <td>1.600000</td>\n",
       "    </tr>\n",
       "    <tr>\n",
       "      <th>25%</th>\n",
       "      <td>50.750000</td>\n",
       "      <td>74.375000</td>\n",
       "      <td>9.975000</td>\n",
       "      <td>12.750000</td>\n",
       "      <td>10.375000</td>\n",
       "    </tr>\n",
       "    <tr>\n",
       "      <th>50%</th>\n",
       "      <td>100.500000</td>\n",
       "      <td>149.750000</td>\n",
       "      <td>22.900000</td>\n",
       "      <td>25.750000</td>\n",
       "      <td>12.900000</td>\n",
       "    </tr>\n",
       "    <tr>\n",
       "      <th>75%</th>\n",
       "      <td>150.250000</td>\n",
       "      <td>218.825000</td>\n",
       "      <td>36.525000</td>\n",
       "      <td>45.100000</td>\n",
       "      <td>17.400000</td>\n",
       "    </tr>\n",
       "    <tr>\n",
       "      <th>max</th>\n",
       "      <td>200.000000</td>\n",
       "      <td>296.400000</td>\n",
       "      <td>49.600000</td>\n",
       "      <td>114.000000</td>\n",
       "      <td>27.000000</td>\n",
       "    </tr>\n",
       "  </tbody>\n",
       "</table>\n",
       "</div>"
      ],
      "text/plain": [
       "       Unnamed: 0          TV       radio   newspaper       sales\n",
       "count  200.000000  200.000000  200.000000  200.000000  200.000000\n",
       "mean   100.500000  147.042500   23.264000   30.554000   14.022500\n",
       "std     57.879185   85.854236   14.846809   21.778621    5.217457\n",
       "min      1.000000    0.700000    0.000000    0.300000    1.600000\n",
       "25%     50.750000   74.375000    9.975000   12.750000   10.375000\n",
       "50%    100.500000  149.750000   22.900000   25.750000   12.900000\n",
       "75%    150.250000  218.825000   36.525000   45.100000   17.400000\n",
       "max    200.000000  296.400000   49.600000  114.000000   27.000000"
      ]
     },
     "execution_count": 3,
     "metadata": {},
     "output_type": "execute_result"
    }
   ],
   "source": [
    "# describe\n",
    "\n",
    "df.describe()"
   ]
  },
  {
   "cell_type": "code",
   "execution_count": 4,
   "id": "d44d31ec-9841-4268-896a-b09b1007a2b8",
   "metadata": {},
   "outputs": [
    {
     "data": {
      "text/html": [
       "<div>\n",
       "<style scoped>\n",
       "    .dataframe tbody tr th:only-of-type {\n",
       "        vertical-align: middle;\n",
       "    }\n",
       "\n",
       "    .dataframe tbody tr th {\n",
       "        vertical-align: top;\n",
       "    }\n",
       "\n",
       "    .dataframe thead th {\n",
       "        text-align: right;\n",
       "    }\n",
       "</style>\n",
       "<table border=\"1\" class=\"dataframe\">\n",
       "  <thead>\n",
       "    <tr style=\"text-align: right;\">\n",
       "      <th></th>\n",
       "      <th>Unnamed: 0</th>\n",
       "      <th>TV</th>\n",
       "      <th>radio</th>\n",
       "      <th>newspaper</th>\n",
       "      <th>sales</th>\n",
       "    </tr>\n",
       "  </thead>\n",
       "  <tbody>\n",
       "    <tr>\n",
       "      <th>0</th>\n",
       "      <td>1</td>\n",
       "      <td>230.1</td>\n",
       "      <td>37.8</td>\n",
       "      <td>69.2</td>\n",
       "      <td>22.1</td>\n",
       "    </tr>\n",
       "    <tr>\n",
       "      <th>1</th>\n",
       "      <td>2</td>\n",
       "      <td>44.5</td>\n",
       "      <td>39.3</td>\n",
       "      <td>45.1</td>\n",
       "      <td>10.4</td>\n",
       "    </tr>\n",
       "    <tr>\n",
       "      <th>2</th>\n",
       "      <td>3</td>\n",
       "      <td>17.2</td>\n",
       "      <td>45.9</td>\n",
       "      <td>69.3</td>\n",
       "      <td>9.3</td>\n",
       "    </tr>\n",
       "    <tr>\n",
       "      <th>3</th>\n",
       "      <td>4</td>\n",
       "      <td>151.5</td>\n",
       "      <td>41.3</td>\n",
       "      <td>58.5</td>\n",
       "      <td>18.5</td>\n",
       "    </tr>\n",
       "    <tr>\n",
       "      <th>4</th>\n",
       "      <td>5</td>\n",
       "      <td>180.8</td>\n",
       "      <td>10.8</td>\n",
       "      <td>58.4</td>\n",
       "      <td>12.9</td>\n",
       "    </tr>\n",
       "  </tbody>\n",
       "</table>\n",
       "</div>"
      ],
      "text/plain": [
       "   Unnamed: 0     TV  radio  newspaper  sales\n",
       "0           1  230.1   37.8       69.2   22.1\n",
       "1           2   44.5   39.3       45.1   10.4\n",
       "2           3   17.2   45.9       69.3    9.3\n",
       "3           4  151.5   41.3       58.5   18.5\n",
       "4           5  180.8   10.8       58.4   12.9"
      ]
     },
     "execution_count": 4,
     "metadata": {},
     "output_type": "execute_result"
    }
   ],
   "source": [
    "# head\n",
    "df.head()"
   ]
  },
  {
   "cell_type": "code",
   "execution_count": 5,
   "id": "342c476b-2572-4b12-a579-d1b528cd4c8e",
   "metadata": {},
   "outputs": [],
   "source": [
    "# input\n",
    "X_1 = df.TV\n",
    "X_2 = df.radio\n",
    "X_3 = df.newspaper"
   ]
  },
  {
   "cell_type": "code",
   "execution_count": 6,
   "id": "257284f4-27f1-4aea-b554-09517d69f3da",
   "metadata": {},
   "outputs": [
    {
     "data": {
      "text/plain": [
       "0      230.1\n",
       "1       44.5\n",
       "2       17.2\n",
       "3      151.5\n",
       "4      180.8\n",
       "       ...  \n",
       "195     38.2\n",
       "196     94.2\n",
       "197    177.0\n",
       "198    283.6\n",
       "199    232.1\n",
       "Name: TV, Length: 200, dtype: float64"
      ]
     },
     "execution_count": 6,
     "metadata": {},
     "output_type": "execute_result"
    }
   ],
   "source": [
    "# ilk degisken\n",
    "X_1"
   ]
  },
  {
   "cell_type": "code",
   "execution_count": 7,
   "id": "6c06d905-1bc4-4e67-bcea-22c593490bfc",
   "metadata": {},
   "outputs": [
    {
     "data": {
      "text/plain": [
       "pandas.core.series.Series"
      ]
     },
     "execution_count": 7,
     "metadata": {},
     "output_type": "execute_result"
    }
   ],
   "source": [
    "# ilk degisken tipi\n",
    "type(X_1)"
   ]
  },
  {
   "cell_type": "code",
   "execution_count": 8,
   "id": "3f2e23bd-f35a-4e9d-9459-5d95e15ef656",
   "metadata": {},
   "outputs": [
    {
     "data": {
      "text/plain": [
       "(200,)"
      ]
     },
     "execution_count": 8,
     "metadata": {},
     "output_type": "execute_result"
    }
   ],
   "source": [
    "# ilk degisken sekli\n",
    "X_1.shape"
   ]
  },
  {
   "cell_type": "code",
   "execution_count": 9,
   "id": "41f8f3a3-492f-4bd2-9281-f3b3c53dca33",
   "metadata": {},
   "outputs": [],
   "source": [
    "# output\n",
    "y = df.sales"
   ]
  },
  {
   "cell_type": "code",
   "execution_count": 10,
   "id": "7a55ee2a-affd-4529-ac8e-f1b7fbd7bf48",
   "metadata": {},
   "outputs": [
    {
     "data": {
      "text/plain": [
       "(200,)"
      ]
     },
     "execution_count": 10,
     "metadata": {},
     "output_type": "execute_result"
    }
   ],
   "source": [
    "y.shape"
   ]
  },
  {
   "cell_type": "code",
   "execution_count": 11,
   "id": "cc9cabed-d683-4118-b2e3-096499087a71",
   "metadata": {},
   "outputs": [],
   "source": [
    "# regresyon icin hazirlik yap\n",
    "\n",
    "linear_regressor = LinearRegression()"
   ]
  },
  {
   "cell_type": "code",
   "execution_count": 12,
   "id": "94344224-bf65-4df9-b237-6ab535b2e42e",
   "metadata": {},
   "outputs": [],
   "source": [
    "# dataframe'lerin seklini duzenle -> output\n",
    "y_r = y.values.reshape(-1, 1)"
   ]
  },
  {
   "cell_type": "code",
   "execution_count": 13,
   "id": "3af15ec9-933c-404c-8f0d-720ddca5abd1",
   "metadata": {},
   "outputs": [
    {
     "data": {
      "text/plain": [
       "(200,)"
      ]
     },
     "execution_count": 13,
     "metadata": {},
     "output_type": "execute_result"
    }
   ],
   "source": [
    "# orjinal datanin sekli\n",
    "# satir, sutun _> 200 satir, sutun yok\n",
    "y.shape"
   ]
  },
  {
   "cell_type": "code",
   "execution_count": 14,
   "id": "d1fb2f94-38e3-45c8-a4b0-e3cde5ec177f",
   "metadata": {},
   "outputs": [
    {
     "data": {
      "text/plain": [
       "(200, 1)"
      ]
     },
     "execution_count": 14,
     "metadata": {},
     "output_type": "execute_result"
    }
   ],
   "source": [
    "# yeniden boyutlandirilmis ciktinin sekli 200 satir, 1 sutun\n",
    "y_r.shape"
   ]
  },
  {
   "cell_type": "code",
   "execution_count": 15,
   "id": "57c11447-7099-4d7b-b889-c0c47db221b0",
   "metadata": {},
   "outputs": [],
   "source": [
    "# dataframe'lerin seklini duzenle -> input\n",
    "X_1_r = X_1.values.reshape(-1, 1)\n",
    "X_2_r = X_2.values.reshape(-1, 1)\n",
    "X_3_r = X_3.values.reshape(-1, 1)"
   ]
  },
  {
   "cell_type": "code",
   "execution_count": 16,
   "id": "e38cd053-7d91-4f9b-8f02-c4e3b8b97ba7",
   "metadata": {},
   "outputs": [
    {
     "data": {
      "text/plain": [
       "(200, 1)"
      ]
     },
     "execution_count": 16,
     "metadata": {},
     "output_type": "execute_result"
    }
   ],
   "source": [
    "X_1_r.shape"
   ]
  },
  {
   "cell_type": "code",
   "execution_count": 17,
   "id": "c3eebe92-da07-4f8f-a414-c521bec138de",
   "metadata": {},
   "outputs": [
    {
     "data": {
      "image/png": "[encoded data removed]",
      "text/plain": [
       "<Figure size 640x480 with 1 Axes>"
      ]
     },
     "metadata": {},
     "output_type": "display_data"
    }
   ],
   "source": [
    "# SATIS _ TV\n",
    "\n",
    "# data -> X_1\n",
    "plt.scatter(X_1, y, c='orange')\n",
    "\n",
    "# regresyon\n",
    "linear_regressor.fit(X_1_r, y_r)\n",
    "y_pred = linear_regressor.predict(X_1_r)\n",
    "plt.plot(X_1, y_pred, c='red')\n",
    "\n",
    "plt.xlabel('TV')\n",
    "plt.ylabel('SATIS')\n",
    "plt.title('SATIS _ TV')\n",
    "plt.show()"
   ]
  },
  {
   "cell_type": "code",
   "execution_count": 18,
   "id": "1933c3fa-dbe9-485e-a013-3a401b0ef3ba",
   "metadata": {},
   "outputs": [
    {
     "data": {
      "image/png": "[encoded data removed]",
      "text/plain": [
       "<Figure size 640x480 with 1 Axes>"
      ]
     },
     "metadata": {},
     "output_type": "display_data"
    }
   ],
   "source": [
    "# SATIS _ RADIO\n",
    "\n",
    "# data _ X_2\n",
    "plt.scatter(X_2, y, color='black')\n",
    "\n",
    "linear_regressor.fit(X_2_r, y_r)\n",
    "y_pred_2 = linear_regressor.predict(X_2_r)\n",
    "plt.plot(X_2, y_pred_2, c='r')\n",
    "\n",
    "# grafigi formatla\n",
    "plt.xlabel('radio')\n",
    "plt.ylabel('satis')\n",
    "plt.title('SATIS - RADIO')\n",
    "plt.show()"
   ]
  },
  {
   "cell_type": "code",
   "execution_count": 19,
   "id": "4ae6b5c1-8c2a-494a-b7ec-bae889af6d00",
   "metadata": {},
   "outputs": [
    {
     "data": {
      "image/png": "[encoded data removed]",
      "text/plain": [
       "<Figure size 640x480 with 1 Axes>"
      ]
     },
     "metadata": {},
     "output_type": "display_data"
    }
   ],
   "source": [
    "# SATIS _ NEWSPAPER\n",
    "\n",
    "# data _> X_3\n",
    "\n",
    "plt.scatter(X_3, y, c='purple')\n",
    "\n",
    "linear_regressor.fit(X_3_r, y_r)\n",
    "y_pred_3 = linear_regressor.predict(X_3_r)\n",
    "plt.plot(X_3, y_pred_3, c='blue')\n",
    "\n",
    "plt.xlabel('Newspaper')\n",
    "plt.ylabel('Satis')\n",
    "plt.title('SATIS - NEWSPAPER')\n",
    "plt.show()"
   ]
  },
  {
   "cell_type": "markdown",
   "id": "6c700162-3af7-41f5-a1a0-afd648383d60",
   "metadata": {},
   "source": [
    "Genel olarak şöyle düşünelim:\n",
    "\n",
    "Y ile X arasında şu şekilde bir ilişki olduğunu kabul edelim:\n",
    "\n",
    "$$Y = f(X) + \\epsilon$$"
   ]
  },
  {
   "cell_type": "markdown",
   "id": "b1b9128a-2856-4d1c-a8f9-b70f48513854",
   "metadata": {},
   "source": [
    "Burada:\n",
    "\n",
    "**$f()$** : Ne olduğu bilinmeyen bir fonksiyon.\n",
    "\n",
    "**$\\epsilon$** : Rasgele hata miktarı (error term) -> ölçüm hatası, insan hatası vs."
   ]
  },
  {
   "cell_type": "markdown",
   "id": "42448623-4ab7-43af-ac3e-c91e51306824",
   "metadata": {},
   "source": [
    "---"
   ]
  },
  {
   "cell_type": "markdown",
   "id": "e4f352d6-02dc-43d8-8bcc-daea9a2a6cbf",
   "metadata": {},
   "source": [
    "**Örnek 2:**\n",
    "\n",
    "Gelir ile Eğitim Düzeyi arasındaki ilişkiye bakalım şimdi.\n",
    "\n",
    "Elimizde 30 çalışana ait Gelir (Income) ve Eğitim Yılı (Education) bilgisi var."
   ]
  },
  {
   "cell_type": "code",
   "execution_count": 20,
   "id": "aaf787de-fd3e-4c77-98a5-5366dbbd759b",
   "metadata": {},
   "outputs": [],
   "source": [
    "import pandas as pd\n",
    "import matplotlib.pyplot as plt\n",
    "from sklearn.linear_model import LinearRegression"
   ]
  },
  {
   "cell_type": "code",
   "execution_count": 21,
   "id": "42c77872-ee49-44f8-99a1-25953eb22755",
   "metadata": {},
   "outputs": [],
   "source": [
    "income = pd.read_csv('data/Income.csv')"
   ]
  },
  {
   "cell_type": "code",
   "execution_count": 22,
   "id": "4862a55f-9e13-4f89-8ac2-64faf52e82c7",
   "metadata": {},
   "outputs": [
    {
     "data": {
      "text/html": [
       "<div>\n",
       "<style scoped>\n",
       "    .dataframe tbody tr th:only-of-type {\n",
       "        vertical-align: middle;\n",
       "    }\n",
       "\n",
       "    .dataframe tbody tr th {\n",
       "        vertical-align: top;\n",
       "    }\n",
       "\n",
       "    .dataframe thead th {\n",
       "        text-align: right;\n",
       "    }\n",
       "</style>\n",
       "<table border=\"1\" class=\"dataframe\">\n",
       "  <thead>\n",
       "    <tr style=\"text-align: right;\">\n",
       "      <th></th>\n",
       "      <th>Unnamed: 0</th>\n",
       "      <th>Education</th>\n",
       "      <th>Income</th>\n",
       "    </tr>\n",
       "  </thead>\n",
       "  <tbody>\n",
       "    <tr>\n",
       "      <th>0</th>\n",
       "      <td>1</td>\n",
       "      <td>10.000000</td>\n",
       "      <td>26.658839</td>\n",
       "    </tr>\n",
       "    <tr>\n",
       "      <th>1</th>\n",
       "      <td>2</td>\n",
       "      <td>10.401338</td>\n",
       "      <td>27.306435</td>\n",
       "    </tr>\n",
       "    <tr>\n",
       "      <th>2</th>\n",
       "      <td>3</td>\n",
       "      <td>10.842809</td>\n",
       "      <td>22.132410</td>\n",
       "    </tr>\n",
       "    <tr>\n",
       "      <th>3</th>\n",
       "      <td>4</td>\n",
       "      <td>11.244147</td>\n",
       "      <td>21.169841</td>\n",
       "    </tr>\n",
       "    <tr>\n",
       "      <th>4</th>\n",
       "      <td>5</td>\n",
       "      <td>11.645485</td>\n",
       "      <td>15.192634</td>\n",
       "    </tr>\n",
       "  </tbody>\n",
       "</table>\n",
       "</div>"
      ],
      "text/plain": [
       "   Unnamed: 0  Education     Income\n",
       "0           1  10.000000  26.658839\n",
       "1           2  10.401338  27.306435\n",
       "2           3  10.842809  22.132410\n",
       "3           4  11.244147  21.169841\n",
       "4           5  11.645485  15.192634"
      ]
     },
     "execution_count": 22,
     "metadata": {},
     "output_type": "execute_result"
    }
   ],
   "source": [
    "income.head()"
   ]
  },
  {
   "cell_type": "code",
   "execution_count": 23,
   "id": "f255d6fc-2420-4c1a-98dc-cff892a1f024",
   "metadata": {},
   "outputs": [],
   "source": [
    "# input\n",
    "X = income.Education"
   ]
  },
  {
   "cell_type": "code",
   "execution_count": 24,
   "id": "a3dcb6cf-f7d4-4c5b-b593-8cfddb692c39",
   "metadata": {},
   "outputs": [],
   "source": [
    "# output\n",
    "y = income.Income"
   ]
  },
  {
   "cell_type": "code",
   "execution_count": 25,
   "id": "1b7e39e7-51d7-41b5-8f06-7efef23805d0",
   "metadata": {},
   "outputs": [],
   "source": [
    "# reshape df\n",
    "X_r = X.values.reshape(-1, 1)\n",
    "y_r = y.values.reshape(-1, 1)"
   ]
  },
  {
   "cell_type": "code",
   "execution_count": 26,
   "id": "dc28f39a-3a58-43fd-8022-98ea8afd5e46",
   "metadata": {},
   "outputs": [
    {
     "data": {
      "image/png": "[encoded data removed]",
      "text/plain": [
       "<Figure size 1000x600 with 1 Axes>"
      ]
     },
     "metadata": {},
     "output_type": "display_data"
    }
   ],
   "source": [
    "plt.figure(figsize=(10, 6))\n",
    "plt.scatter(X, y, color='orange')\n",
    "\n",
    "model = LinearRegression()\n",
    "model.fit(X_r, y_r)\n",
    "y_pred = model.predict(X_r)\n",
    "\n",
    "plt.plot(X, y_pred, c='r')\n",
    "\n",
    "plt.xlabel('Education')\n",
    "plt.ylabel('Income')\n",
    "plt.title('EDUCATION - INCOME')\n",
    "plt.show()"
   ]
  },
  {
   "cell_type": "markdown",
   "id": "79739c8f-a845-490c-95b6-8c6435f4b25d",
   "metadata": {},
   "source": [
    "Gördüğünüz gibi doğrusal bir çizgi (Lineer Regression) çizdiğimiz için çok oturmadı veriye."
   ]
  },
  {
   "cell_type": "markdown",
   "id": "8c574a31-d756-452d-98b7-44d6930f665f",
   "metadata": {},
   "source": [
    "Eğer daha yüksek dereceli (4. derece) bir Polinom olarak modelleseydik:"
   ]
  },
  {
   "cell_type": "markdown",
   "id": "8ed72045-3b38-4d1a-9c7f-42f6275ca29f",
   "metadata": {},
   "source": [
    "<img src='images/quadratik.jpg' />"
   ]
  },
  {
   "cell_type": "markdown",
   "id": "db2b3f85-71e0-4929-a503-fe7353918e36",
   "metadata": {},
   "source": [
    "Bu sefer başka bir fonksiyon görüyoruz. Biraz daha güzel oturdu veriye.\n",
    "\n",
    "Ama hala tam olarak **f** bilmiyoruz."
   ]
  },
  {
   "cell_type": "markdown",
   "id": "b8938e64-bf2d-4b40-983b-e1b673e99709",
   "metadata": {},
   "source": [
    "Aslında,\n",
    "\n",
    "Makine Öğrenmesi **f** ye yaklaşmak için (hiçbir zaman bilemeyiz çünkü) geliştirilmiş algoritmalardır."
   ]
  },
  {
   "cell_type": "markdown",
   "id": "8183066b-9457-4326-a276-23de7766c6f5",
   "metadata": {},
   "source": [
    "Eğer **f**'yi bilmiyorsak, o zaman tahmin etmeye çalışacağız."
   ]
  },
  {
   "cell_type": "markdown",
   "id": "a3295565-d6fa-4dc6-b0e2-cf9353189704",
   "metadata": {},
   "source": [
    "**İşte bu, tahmin yapıp, bilmediğimiz f'ye yaklaşma çabasına `Öğrenme` diyoruz.**"
   ]
  }
 ],
 "metadata": {
  "kernelspec": {
   "display_name": "Python 3 (ipykernel)",
   "language": "python",
   "name": "python3"
  },
  "language_info": {
   "codemirror_mode": {
    "name": "ipython",
    "version": 3
   },
   "file_extension": ".py",
   "mimetype": "text/x-python",
   "name": "python",
   "nbconvert_exporter": "python",
   "pygments_lexer": "ipython3",
   "version": "3.12.9"
  }
 },
 "nbformat": 4,
 "nbformat_minor": 5
}
