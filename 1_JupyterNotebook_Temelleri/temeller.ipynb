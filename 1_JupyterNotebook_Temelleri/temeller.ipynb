{
 "cells": [
  {
   "cell_type": "code",
   "execution_count": 2,
   "id": "873f6921-8d54-4087-ae6f-5b08b4efdc17",
   "metadata": {},
   "outputs": [
    {
     "name": "stdout",
     "output_type": "stream",
     "text": [
      "Hello World\n"
     ]
    }
   ],
   "source": [
    "print('Hello World')"
   ]
  },
  {
   "cell_type": "code",
   "execution_count": 3,
   "id": "fd123154-7cb9-47b8-9178-1d0b7cfd93a6",
   "metadata": {},
   "outputs": [
    {
     "name": "stdout",
     "output_type": "stream",
     "text": [
      "2. Kod Hücresi\n"
     ]
    }
   ],
   "source": [
    "print('2. Kod Hücresi')"
   ]
  },
  {
   "cell_type": "markdown",
   "id": "fd853714-17e9-4071-9a41-bbd9b638838b",
   "metadata": {},
   "source": [
    "Bu bicimlendirilmis metin hucresidir"
   ]
  },
  {
   "cell_type": "markdown",
   "id": "25994b67-fe6f-4869-b72d-7b8815636f59",
   "metadata": {},
   "source": [
    "<b>Koyu</b> metin"
   ]
  },
  {
   "cell_type": "markdown",
   "id": "ed4a5a94-7554-4173-aef1-20b77badb9cc",
   "metadata": {},
   "source": [
    "**Bu metinde koyudur**"
   ]
  },
  {
   "cell_type": "raw",
   "id": "e13276dd-a31f-462a-a9bf-857ea730b368",
   "metadata": {},
   "source": [
    "bu hucre raw formatindadir"
   ]
  },
  {
   "cell_type": "code",
   "execution_count": 12,
   "id": "7b77522f-3caf-4779-bc8a-4712817ed274",
   "metadata": {},
   "outputs": [
    {
     "name": "stdout",
     "output_type": "stream",
     "text": [
      "kopya Hücre\n"
     ]
    }
   ],
   "source": [
    "print('kopya Hücre')"
   ]
  },
  {
   "cell_type": "code",
   "execution_count": null,
   "id": "0bbef6cb-3f63-4bdf-9bd1-bcf9d3391a36",
   "metadata": {},
   "outputs": [],
   "source": []
  }
 ],
 "metadata": {
  "kernelspec": {
   "display_name": "Python [conda env:base] *",
   "language": "python",
   "name": "conda-base-py"
  },
  "language_info": {
   "codemirror_mode": {
    "name": "ipython",
    "version": 3
   },
   "file_extension": ".py",
   "mimetype": "text/x-python",
   "name": "python",
   "nbconvert_exporter": "python",
   "pygments_lexer": "ipython3",
   "version": "3.12.7"
  }
 },
 "nbformat": 4,
 "nbformat_minor": 5
}
