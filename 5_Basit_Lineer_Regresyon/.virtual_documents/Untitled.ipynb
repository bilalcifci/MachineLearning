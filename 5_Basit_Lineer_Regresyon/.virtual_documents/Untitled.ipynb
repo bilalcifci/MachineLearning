








# paket import
import pandas as pd
import matplotlib.pyplot as plt
import seaborn as sns


# dataframe'i olustur
df_advertising = pd.read_csv('data/Advertising.csv', index_col=0)


# il 10 satir
df_advertising.head(10)


# son bes satir
df_advertising.tail()


# genel bilgiler
df_advertising.info()


# temel istatistikler
df_advertising.describe()





# input - output

data = df_advertising[['TV', 'sales']]

# input -> feature X
X = data['TV']

# output -> label y
y = data['sales']


# X type
type(X)


# y'nin tipi
type(y)


# grafik ciz
sns.set_theme(style='darkgrid')
plt.figure(figsize=(12, 8))
sns.scatterplot(data=data, x='TV', y='sales', color='orange')
plt.title('SALES ~ TV')
plt.show()





# import
from sklearn.linear_model import LinearRegression


# Linear Regresyon nesnesini olustur
lr = LinearRegression





# input ve oputput boyut
print(X.shape)
print(y.shape)


# yeniden boyutlandiralim
X = X.values.reshape(-1, 1)
y = y.values.reshape(-1, 1)



