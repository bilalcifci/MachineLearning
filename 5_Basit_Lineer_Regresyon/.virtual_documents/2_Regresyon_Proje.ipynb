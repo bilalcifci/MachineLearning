








# paket import
import pandas as pd
import matplotlib.pyplot as plt
import seaborn as sns


# dataframe'i olustur
df_advertising = pd.read_csv('data/Advertising.csv', index_col=0)


# il 10 satir
df_advertising.head(10)


# son bes satir
df_advertising.tail()


# genel bilgiler
df_advertising.info()


# temel istatistikler
df_advertising.describe()





# input - output

data = df_advertising[['TV', 'sales']]

# input -> feature X
X = data['TV']

# output -> label y
y = data['sales']


# X type
type(X)


# y'nin tipi
type(y)


# grafik ciz
sns.set_theme(style='darkgrid')
plt.figure(figsize=(12, 8))
sns.scatterplot(data=data, x='TV', y='sales', color='orange')
plt.title('SALES ~ TV')
plt.show()





# import
from sklearn.linear_model import LinearRegression


# Linear Regresyon nesnesini olustur
lr = LinearRegression()





# input ve oputput boyut
print(X.shape)
print(y.shape)


# yeniden boyutlandiralim
X = X.values.reshape(-1, 1)
y = y.values.reshape(-1, 1)


# input ve oputput boyut
print(X.shape)
print(y.shape)











# sklearn den import
from sklearn.model_selection import train_test_split


# train data
# X_train, y_train

# test data
# X_test, y_test

X_train, X_test, y_train, y_test = train_test_split(X, y, test_size=0.30, random_state=100)


# şekiller

print("X_train'in boyutu:", X_train.shape)
print("y_train'in boyutu:", y_train.shape)

print("X_test'in boyutu:", X_test.shape)
print("y_test'in boyutu:", y_test.shape)


# X_train'in tipi

type(X_train)





# regresyonu calistir -> fit
# fit -> ogrenme
# train data uzerinden

lr.fit(X_train, y_train)








# intercept -> beta - 0

print('intercept:', lr.intercept_)


# slope = coefficient -> beta 1

print('slope (coeffificent) eğim:', lr.coef_)


print(f'y = {lr.intercept_[0]:.5} + {lr.coef_[0][0]:.5}X')











# tahmin yap

y_pred = lr.predict(X_test)


# tahmini yazdir
y_pred


# tahmin datasının şekli

y_pred.shape


# test datasının (orjinal data) şekli
# y_true

y_test.shape








# Gerçek Data -> Grand Truth
fig, ax = plt.subplots(figsize=(12,8))
ax.scatter(X_test, y_test, label='Grand Truth', color='red')

# Tahmin -> Prediction
ax.scatter(X_test, y_pred, label='Prediction', color='green')

plt.title('SALES - TV - PREDICTION')
plt.xlabel('TV')
plt.ylabel('Sales')
plt.legend(loc='upper left')
plt.show()


# ilk 10 gerçek y değerini görelim

y_test[0:10]


# ilk 10 tahmin değerini görelim

y_pred[0:10]


# Her bir tahmin noktasındaki değişimi görelim
indexler = range(1,61)

# Gerçek Data -> Grand Truth
fig, ax = plt.subplots(figsize=(12,8))
ax.plot(indexler, y_test, label='Grand Truth', color='red', linewidth=2)

# Tahmin -> Prediction
ax.plot(indexler, y_pred, label='Prediction', color='green', linewidth=2)

plt.title('GERÇEK - PREDICTION')
plt.xlabel('Data Index')
plt.ylabel('Sales')
plt.legend(loc='upper left')
plt.show()








import numpy as np


len(y_test - y_pred)


# Her bir tahmin noktasındaki hatayı görelim
indexler = range(1,61)

# Residuls -> Hatalar
fig, ax = plt.subplots(figsize=(12,8))
ax.plot(indexler, y_test - y_pred, label='Residuals', color='red', linewidth=2)

# sıfır doğrusunu çiz
ax.plot(indexler, np.zeros(len(y_test - y_pred)), color='black')

plt.title('HATALAR (RESIDUALS)')
plt.xlabel('Data Index')
plt.ylabel('Sales')
plt.legend(loc='upper left')
plt.show()











# sklearn import

from sklearn.metrics import r2_score, mean_squared_error


# R^2 yi hesaplayalım

r_2 = r2_score(y_test, y_pred)


# R^2 yazdır

print('R^2:', r_2)


# R^2 % olarak yazdır

print('R^2 %:', r_2 * 100)


# MSE -> RMSE

mse = mean_squared_error(y_test, y_pred)


# MSE'yi yazdır

print('MSE:', mse)


# RMSE

import math
rmse = math.sqrt(mse)


# RMSE'yi yazdır

print('RMSE:', rmse)












